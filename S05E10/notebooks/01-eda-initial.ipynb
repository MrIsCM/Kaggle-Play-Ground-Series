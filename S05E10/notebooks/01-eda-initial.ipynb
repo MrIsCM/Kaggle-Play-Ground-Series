{
 "cells": [
  {
   "cell_type": "markdown",
   "id": "5913ed7e",
   "metadata": {},
   "source": [
    "# Initial EDA"
   ]
  },
  {
   "cell_type": "markdown",
   "id": "58dbfe8e",
   "metadata": {},
   "source": [
    "## Imports"
   ]
  },
  {
   "cell_type": "code",
   "execution_count": 1,
   "id": "85b4680f",
   "metadata": {},
   "outputs": [],
   "source": [
    "# Standard imports\n",
    "import numpy as np\n",
    "import pandas as pd\n",
    "import matplotlib.pyplot as plt\n",
    "import seaborn as sns"
   ]
  },
  {
   "cell_type": "code",
   "execution_count": 2,
   "id": "de065ba2",
   "metadata": {},
   "outputs": [],
   "source": [
    "# Path things\n",
    "from pathlib import Path\n",
    "\n",
    "data_dir = Path(\"../data\")\n",
    "raw_dir = data_dir / \"raw\"\n",
    "processed_dir = data_dir / \"processed\"\n",
    "extension_dir = data_dir / \"extension\""
   ]
  },
  {
   "cell_type": "markdown",
   "id": "676f861a",
   "metadata": {},
   "source": [
    "## Load Data"
   ]
  },
  {
   "cell_type": "code",
   "execution_count": 3,
   "id": "e7571723",
   "metadata": {},
   "outputs": [],
   "source": [
    "train = pd.read_csv(raw_dir / \"train.csv\")\n",
    "test = pd.read_csv(raw_dir / \"test.csv\")\n",
    "sample_submission = pd.read_csv(raw_dir / \"sample_submission.csv\")\n",
    "\n",
    "ext_data_2 = pd.read_csv(extension_dir / \"synthetic_road_accidents_2k.csv\")\n",
    "ext_data_10 = pd.read_csv(extension_dir / \"synthetic_road_accidents_10k.csv\")\n",
    "ext_data_100 = pd.read_csv(extension_dir / \"synthetic_road_accidents_100k.csv\")"
   ]
  },
  {
   "cell_type": "code",
   "execution_count": 19,
   "id": "f2dfb54c",
   "metadata": {},
   "outputs": [
    {
     "data": {
      "text/html": [
       "<div>\n",
       "<style scoped>\n",
       "    .dataframe tbody tr th:only-of-type {\n",
       "        vertical-align: middle;\n",
       "    }\n",
       "\n",
       "    .dataframe tbody tr th {\n",
       "        vertical-align: top;\n",
       "    }\n",
       "\n",
       "    .dataframe thead th {\n",
       "        text-align: right;\n",
       "    }\n",
       "</style>\n",
       "<table border=\"1\" class=\"dataframe\">\n",
       "  <thead>\n",
       "    <tr style=\"text-align: right;\">\n",
       "      <th></th>\n",
       "      <th>id</th>\n",
       "      <th>road_type</th>\n",
       "      <th>num_lanes</th>\n",
       "      <th>curvature</th>\n",
       "      <th>speed_limit</th>\n",
       "      <th>lighting</th>\n",
       "      <th>weather</th>\n",
       "      <th>road_signs_present</th>\n",
       "      <th>public_road</th>\n",
       "      <th>time_of_day</th>\n",
       "      <th>holiday</th>\n",
       "      <th>school_season</th>\n",
       "      <th>num_reported_accidents</th>\n",
       "      <th>accident_risk</th>\n",
       "    </tr>\n",
       "  </thead>\n",
       "  <tbody>\n",
       "    <tr>\n",
       "      <th>0</th>\n",
       "      <td>0</td>\n",
       "      <td>urban</td>\n",
       "      <td>2</td>\n",
       "      <td>0.06</td>\n",
       "      <td>35</td>\n",
       "      <td>daylight</td>\n",
       "      <td>rainy</td>\n",
       "      <td>False</td>\n",
       "      <td>True</td>\n",
       "      <td>afternoon</td>\n",
       "      <td>False</td>\n",
       "      <td>True</td>\n",
       "      <td>1</td>\n",
       "      <td>0.13</td>\n",
       "    </tr>\n",
       "    <tr>\n",
       "      <th>1</th>\n",
       "      <td>1</td>\n",
       "      <td>urban</td>\n",
       "      <td>4</td>\n",
       "      <td>0.99</td>\n",
       "      <td>35</td>\n",
       "      <td>daylight</td>\n",
       "      <td>clear</td>\n",
       "      <td>True</td>\n",
       "      <td>False</td>\n",
       "      <td>evening</td>\n",
       "      <td>True</td>\n",
       "      <td>True</td>\n",
       "      <td>0</td>\n",
       "      <td>0.35</td>\n",
       "    </tr>\n",
       "    <tr>\n",
       "      <th>2</th>\n",
       "      <td>2</td>\n",
       "      <td>rural</td>\n",
       "      <td>4</td>\n",
       "      <td>0.63</td>\n",
       "      <td>70</td>\n",
       "      <td>dim</td>\n",
       "      <td>clear</td>\n",
       "      <td>False</td>\n",
       "      <td>True</td>\n",
       "      <td>morning</td>\n",
       "      <td>True</td>\n",
       "      <td>False</td>\n",
       "      <td>2</td>\n",
       "      <td>0.30</td>\n",
       "    </tr>\n",
       "    <tr>\n",
       "      <th>3</th>\n",
       "      <td>3</td>\n",
       "      <td>highway</td>\n",
       "      <td>4</td>\n",
       "      <td>0.07</td>\n",
       "      <td>35</td>\n",
       "      <td>dim</td>\n",
       "      <td>rainy</td>\n",
       "      <td>True</td>\n",
       "      <td>True</td>\n",
       "      <td>morning</td>\n",
       "      <td>False</td>\n",
       "      <td>False</td>\n",
       "      <td>1</td>\n",
       "      <td>0.21</td>\n",
       "    </tr>\n",
       "    <tr>\n",
       "      <th>4</th>\n",
       "      <td>4</td>\n",
       "      <td>rural</td>\n",
       "      <td>1</td>\n",
       "      <td>0.58</td>\n",
       "      <td>60</td>\n",
       "      <td>daylight</td>\n",
       "      <td>foggy</td>\n",
       "      <td>False</td>\n",
       "      <td>False</td>\n",
       "      <td>evening</td>\n",
       "      <td>True</td>\n",
       "      <td>False</td>\n",
       "      <td>1</td>\n",
       "      <td>0.56</td>\n",
       "    </tr>\n",
       "  </tbody>\n",
       "</table>\n",
       "</div>"
      ],
      "text/plain": [
       "   id road_type  num_lanes  curvature  speed_limit  lighting weather  \\\n",
       "0   0     urban          2       0.06           35  daylight   rainy   \n",
       "1   1     urban          4       0.99           35  daylight   clear   \n",
       "2   2     rural          4       0.63           70       dim   clear   \n",
       "3   3   highway          4       0.07           35       dim   rainy   \n",
       "4   4     rural          1       0.58           60  daylight   foggy   \n",
       "\n",
       "   road_signs_present  public_road time_of_day  holiday  school_season  \\\n",
       "0               False         True   afternoon    False           True   \n",
       "1                True        False     evening     True           True   \n",
       "2               False         True     morning     True          False   \n",
       "3                True         True     morning    False          False   \n",
       "4               False        False     evening     True          False   \n",
       "\n",
       "   num_reported_accidents  accident_risk  \n",
       "0                       1           0.13  \n",
       "1                       0           0.35  \n",
       "2                       2           0.30  \n",
       "3                       1           0.21  \n",
       "4                       1           0.56  "
      ]
     },
     "execution_count": 19,
     "metadata": {},
     "output_type": "execute_result"
    }
   ],
   "source": [
    "train.head()"
   ]
  },
  {
   "cell_type": "code",
   "execution_count": 18,
   "id": "7b1611e4",
   "metadata": {},
   "outputs": [
    {
     "data": {
      "text/html": [
       "<div>\n",
       "<style scoped>\n",
       "    .dataframe tbody tr th:only-of-type {\n",
       "        vertical-align: middle;\n",
       "    }\n",
       "\n",
       "    .dataframe tbody tr th {\n",
       "        vertical-align: top;\n",
       "    }\n",
       "\n",
       "    .dataframe thead th {\n",
       "        text-align: right;\n",
       "    }\n",
       "</style>\n",
       "<table border=\"1\" class=\"dataframe\">\n",
       "  <thead>\n",
       "    <tr style=\"text-align: right;\">\n",
       "      <th></th>\n",
       "      <th>road_type</th>\n",
       "      <th>num_lanes</th>\n",
       "      <th>curvature</th>\n",
       "      <th>speed_limit</th>\n",
       "      <th>lighting</th>\n",
       "      <th>weather</th>\n",
       "      <th>road_signs_present</th>\n",
       "      <th>public_road</th>\n",
       "      <th>time_of_day</th>\n",
       "      <th>holiday</th>\n",
       "      <th>school_season</th>\n",
       "      <th>num_reported_accidents</th>\n",
       "      <th>accident_risk</th>\n",
       "    </tr>\n",
       "  </thead>\n",
       "  <tbody>\n",
       "    <tr>\n",
       "      <th>0</th>\n",
       "      <td>rural</td>\n",
       "      <td>2</td>\n",
       "      <td>0.29</td>\n",
       "      <td>70</td>\n",
       "      <td>night</td>\n",
       "      <td>rainy</td>\n",
       "      <td>False</td>\n",
       "      <td>True</td>\n",
       "      <td>evening</td>\n",
       "      <td>False</td>\n",
       "      <td>False</td>\n",
       "      <td>1</td>\n",
       "      <td>0.64</td>\n",
       "    </tr>\n",
       "    <tr>\n",
       "      <th>1</th>\n",
       "      <td>highway</td>\n",
       "      <td>1</td>\n",
       "      <td>0.34</td>\n",
       "      <td>25</td>\n",
       "      <td>dim</td>\n",
       "      <td>clear</td>\n",
       "      <td>False</td>\n",
       "      <td>False</td>\n",
       "      <td>morning</td>\n",
       "      <td>False</td>\n",
       "      <td>False</td>\n",
       "      <td>3</td>\n",
       "      <td>0.27</td>\n",
       "    </tr>\n",
       "    <tr>\n",
       "      <th>2</th>\n",
       "      <td>rural</td>\n",
       "      <td>2</td>\n",
       "      <td>0.76</td>\n",
       "      <td>70</td>\n",
       "      <td>night</td>\n",
       "      <td>foggy</td>\n",
       "      <td>True</td>\n",
       "      <td>False</td>\n",
       "      <td>evening</td>\n",
       "      <td>True</td>\n",
       "      <td>True</td>\n",
       "      <td>1</td>\n",
       "      <td>0.76</td>\n",
       "    </tr>\n",
       "    <tr>\n",
       "      <th>3</th>\n",
       "      <td>rural</td>\n",
       "      <td>3</td>\n",
       "      <td>0.37</td>\n",
       "      <td>70</td>\n",
       "      <td>night</td>\n",
       "      <td>foggy</td>\n",
       "      <td>True</td>\n",
       "      <td>False</td>\n",
       "      <td>morning</td>\n",
       "      <td>False</td>\n",
       "      <td>True</td>\n",
       "      <td>0</td>\n",
       "      <td>0.60</td>\n",
       "    </tr>\n",
       "    <tr>\n",
       "      <th>4</th>\n",
       "      <td>highway</td>\n",
       "      <td>3</td>\n",
       "      <td>0.39</td>\n",
       "      <td>45</td>\n",
       "      <td>dim</td>\n",
       "      <td>rainy</td>\n",
       "      <td>False</td>\n",
       "      <td>True</td>\n",
       "      <td>morning</td>\n",
       "      <td>False</td>\n",
       "      <td>False</td>\n",
       "      <td>0</td>\n",
       "      <td>0.17</td>\n",
       "    </tr>\n",
       "  </tbody>\n",
       "</table>\n",
       "</div>"
      ],
      "text/plain": [
       "  road_type  num_lanes  curvature  speed_limit lighting weather  \\\n",
       "0     rural          2       0.29           70    night   rainy   \n",
       "1   highway          1       0.34           25      dim   clear   \n",
       "2     rural          2       0.76           70    night   foggy   \n",
       "3     rural          3       0.37           70    night   foggy   \n",
       "4   highway          3       0.39           45      dim   rainy   \n",
       "\n",
       "   road_signs_present  public_road time_of_day  holiday  school_season  \\\n",
       "0               False         True     evening    False          False   \n",
       "1               False        False     morning    False          False   \n",
       "2                True        False     evening     True           True   \n",
       "3                True        False     morning    False           True   \n",
       "4               False         True     morning    False          False   \n",
       "\n",
       "   num_reported_accidents  accident_risk  \n",
       "0                       1           0.64  \n",
       "1                       3           0.27  \n",
       "2                       1           0.76  \n",
       "3                       0           0.60  \n",
       "4                       0           0.17  "
      ]
     },
     "execution_count": 18,
     "metadata": {},
     "output_type": "execute_result"
    }
   ],
   "source": [
    "ext_data_100.head()"
   ]
  },
  {
   "cell_type": "markdown",
   "id": "5568db37",
   "metadata": {},
   "source": [
    "## EDA"
   ]
  },
  {
   "cell_type": "code",
   "execution_count": 20,
   "id": "2169854d",
   "metadata": {},
   "outputs": [
    {
     "data": {
      "text/plain": [
       "({'id'}, set())"
      ]
     },
     "execution_count": 20,
     "metadata": {},
     "output_type": "execute_result"
    }
   ],
   "source": [
    "# Assert the columns are the same in the competition data and the 'extended' data\n",
    "train_cols = train.columns\n",
    "ext_data_cols = ext_data_100.columns\n",
    "\n",
    "set(train_cols) - set(ext_data_cols), set(ext_data_cols) - set(train_cols)"
   ]
  },
  {
   "cell_type": "markdown",
   "id": "3dba0813",
   "metadata": {},
   "source": [
    "They have the same columns. The only difference is that the training data from the competition has an ID column. \n",
    "We can simply drop this column."
   ]
  },
  {
   "cell_type": "code",
   "execution_count": 37,
   "id": "20d9cd72",
   "metadata": {},
   "outputs": [
    {
     "name": "stdout",
     "output_type": "stream",
     "text": [
      "There are 0 duplicated ids in the training set out of 517754 rows.\n",
      "There are 656 duplicated rows in the training set (not considering IDs) out of 517754 rows.\n",
      "There are 10774 duplicated rows in the training set (not considering IDs nor target) out of 517754 rows.\n"
     ]
    }
   ],
   "source": [
    "# Check if there is duplicate data among the training set (considering ID and without ID)\n",
    "print(f\"There are {train[train.duplicated(subset=['id'])].shape[0]} duplicated ids in the training set out of {train.shape[0]} rows.\")\n",
    "print(f\"There are {train[train.drop(columns=['id']).duplicated()].shape[0]} duplicated rows in the training set (not considering IDs) out of {train.shape[0]} rows.\")\n",
    "\n",
    "# Check for feature duplicates with different target values\n",
    "print(f\"There are {train[train.drop(columns=['id', 'accident_risk']).duplicated()].shape[0]} duplicated rows in the training set (not considering IDs nor target) out of {train.shape[0]} rows.\")"
   ]
  },
  {
   "cell_type": "code",
   "execution_count": 30,
   "id": "f60e963d",
   "metadata": {},
   "outputs": [
    {
     "name": "stdout",
     "output_type": "stream",
     "text": [
      "There are 0 duplicated ids in the test set out of 172585 rows.\n",
      "There are 1203 duplicated rows in the test set (not considering IDs) out of 172585 rows.\n"
     ]
    }
   ],
   "source": [
    "# Check duplicates in test set\n",
    "print(f\"There are {test[test.duplicated(subset=['id'])].shape[0]} duplicated ids in the test set out of {test.shape[0]} rows.\")\n",
    "print(f\"There are {test[test.drop(columns=['id']).duplicated()].shape[0]} duplicated rows in the test set (not considering IDs) out of {test.shape[0]} rows.\")"
   ]
  },
  {
   "cell_type": "code",
   "execution_count": 34,
   "id": "997b4dfe",
   "metadata": {},
   "outputs": [
    {
     "name": "stdout",
     "output_type": "stream",
     "text": [
      "There are 0 rows in the training set with IDs that are also in the test set.\n",
      "There are 0 rows in the training set that are also in the test set (not considering IDs).\n"
     ]
    }
   ],
   "source": [
    "# Check for duplicated data between train and test sets (with and without considering IDs)\n",
    "print(f\"There are {train[train['id'].isin(test['id'])].shape[0]} rows in the training set with IDs that are also in the test set.\")\n",
    "print(f\"There are {train[train.drop(columns=['id', 'accident_risk']).isin(test.drop(columns=['id'])).all(axis=1)].shape[0]} rows in the training set that are also in the test set (not considering IDs).\")"
   ]
  }
 ],
 "metadata": {
  "kernelspec": {
   "display_name": "Python 3",
   "language": "python",
   "name": "python3"
  },
  "language_info": {
   "codemirror_mode": {
    "name": "ipython",
    "version": 3
   },
   "file_extension": ".py",
   "mimetype": "text/x-python",
   "name": "python",
   "nbconvert_exporter": "python",
   "pygments_lexer": "ipython3",
   "version": "3.10.18"
  }
 },
 "nbformat": 4,
 "nbformat_minor": 5
}
